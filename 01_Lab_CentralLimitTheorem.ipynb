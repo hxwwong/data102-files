{
 "cells": [
  {
   "cell_type": "markdown",
   "id": "bb2e7fb9-68cd-4b6a-bcbd-425b8db55269",
   "metadata": {},
   "source": [
    "# Let's test and prove the Central Limit Theorem\n",
    "\n",
    "In this Notebook, we'll be generating probability distributions with different sample sizes to prove that the Central Limit Theorem. The Notebook is designed to be guided learning activities with challenges for you. Simply go through the cells from top to bottom, following the directions along the way.\n",
    "\n",
    "If you find any unclear parts or mistakes in the Notebook, email your instructor.\n",
    "\n",
    "---\n",
    "\n",
    "By definition, the Central Limit Theorem states that:\n",
    "> The distribution of a sample will look more like the distribution of the population as you increase the size of the sample.\n",
    "\n",
    "Formally, the distribution of the sample means generated from the same population will:\n",
    "- Be normally distributed\n",
    "- Have a mean close to the mean of the parent distribution\n",
    "- Have a standard deviation close to the parent population standard deviation divided by the square root of the sample size\n",
    "\n",
    "### $\\bar{X}$ ~ $N(\\mu, \\frac{\\sigma}{\\sqrt{N}})$"
   ]
  },
  {
   "cell_type": "markdown",
   "id": "6a94471f-15ca-41bf-9a81-1d4835e07abf",
   "metadata": {},
   "source": [
    "## Import\n",
    "\n",
    "We'll be importing `numpy` and `matplotlib`. `numpy` is for generating the different probability distributions, while `matplotlib` will allow us to visually see how the data was generated and is distributed."
   ]
  },
  {
   "cell_type": "code",
   "execution_count": 1,
   "id": "8e8dcd35-44bc-4c60-aa30-500fbc243d96",
   "metadata": {},
   "outputs": [
    {
     "name": "stdout",
     "output_type": "stream",
     "text": [
      "%pylab is deprecated, use %matplotlib inline and import the required libraries.\n",
      "Populating the interactive namespace from numpy and matplotlib\n"
     ]
    },
    {
     "name": "stderr",
     "output_type": "stream",
     "text": [
      "/var/folders/83/m943xn_n4wv9b4v6lpyksrz00000gn/T/ipykernel_5322/2977572267.py:6: MatplotlibDeprecationWarning: The seaborn styles shipped by Matplotlib are deprecated since 3.6, as they no longer correspond to the styles shipped by seaborn. However, they will remain available as 'seaborn-v0_8-<style>'. Alternatively, directly use the seaborn API instead.\n",
      "  plt.style.use('seaborn-darkgrid')\n"
     ]
    }
   ],
   "source": [
    "import numpy as np\n",
    "import matplotlib.pyplot as plt\n",
    "\n",
    "%pylab inline\n",
    "\n",
    "plt.style.use('seaborn-darkgrid')"
   ]
  },
  {
   "cell_type": "markdown",
   "id": "60a1a988-9308-4df5-96dd-0456e71c9f76",
   "metadata": {},
   "source": [
    "## Generate a random seed\n",
    "\n",
    "Our first task is to generate a random seed using `numpy` to ensure that our experiment will give us the same results."
   ]
  },
  {
   "cell_type": "code",
   "execution_count": 2,
   "id": "a8152d70-c670-431d-847f-e90a987931aa",
   "metadata": {},
   "outputs": [],
   "source": [
    "np.random.seed(122)"
   ]
  },
  {
   "cell_type": "markdown",
   "id": "a1df884a-06f7-4204-9c19-4706434bd002",
   "metadata": {},
   "source": [
    "Since we're working with random number generation, it's important to set the seed at the beginning to make sure the results will always be the same whenever we run the notebook. You can choose your own random seed, but remember that changing the random seed will also change the data you generate."
   ]
  },
  {
   "cell_type": "markdown",
   "id": "6d7b89b2-f0d5-4515-a2fc-32a0e4534c55",
   "metadata": {},
   "source": [
    "### `numpy.random`\n",
    "\n",
    "The `numpy.random` module [(docs)](https://numpy.org/doc/stable/reference/random/index.html) provides various functions for random sampling. This will be the main module used in this experiment. \n",
    "\n",
    "Most of the samples uses the `LegacyGenerator` [(docs)](https://numpy.org/doc/stable/reference/random/legacy.html) which relies on the random state. However, you are free to experiment with the new `RandomGenerator` [(docs)](https://numpy.org/doc/stable/reference/random/generator.html) module as well."
   ]
  },
  {
   "cell_type": "markdown",
   "id": "3da68bfa-9d03-482a-91b3-cf3c206445fd",
   "metadata": {},
   "source": [
    "## Choose a population mean $\\mu$\n",
    "\n",
    "We need to set a single mean $\\mu$ for our experiment. You can generate one using the `np.random.randint` function or simply just use any arbitrary number."
   ]
  },
  {
   "cell_type": "code",
   "execution_count": 3,
   "id": "b3cfd654-fa56-492c-9ec8-dbd6c3e1a156",
   "metadata": {},
   "outputs": [
    {
     "name": "stdout",
     "output_type": "stream",
     "text": [
      "188\n"
     ]
    }
   ],
   "source": [
    "pop_mean = np.random.randint(50, 200)\n",
    "print(pop_mean)"
   ]
  },
  {
   "cell_type": "markdown",
   "id": "ee01f6cf-3d2b-4ed1-81e6-61ed4c42dada",
   "metadata": {},
   "source": [
    "## Generate 100 different sample sizes\n",
    "\n",
    "To conduct our experiment, we would need different values of $N$ to show how as the number of sample sizes increases, the distribution becomes more similar to a normal distribution."
   ]
  },
  {
   "cell_type": "code",
   "execution_count": 4,
   "id": "0e332237-d3ae-4519-9db2-2a3aea831ae3",
   "metadata": {},
   "outputs": [
    {
     "data": {
      "text/plain": [
       "array([1984, 1366,  840, 1306,  886, 1817,  197, 1772,  985, 1352,  704,\n",
       "       1460, 1055, 1833, 1971,  336, 1112,  429,  750, 1257,  317,  285,\n",
       "        151,   42,  951, 1822,  921, 1115, 1734,  981, 1280, 1353, 1076,\n",
       "       1168, 1850, 1119, 1545, 1714,  225, 1530, 1426, 1811, 1596, 1631,\n",
       "        178, 1287, 1181, 1065, 1493,   24, 1638,  227, 1295,  279,  915,\n",
       "        419, 1022,  247,  204, 1946, 1473, 1050,  574,  394,  793, 1444,\n",
       "        863,  693,  618,  508,  954,  860, 1048, 1609,  257, 1723,  335,\n",
       "        129,  807, 1176,  305,  584, 1840, 1977,  971,  768, 1706,  548,\n",
       "       1402, 1989, 1831, 1836, 1827, 1855,  488, 1300,  541, 1245,  804,\n",
       "       1040])"
      ]
     },
     "execution_count": 4,
     "metadata": {},
     "output_type": "execute_result"
    }
   ],
   "source": [
    "# Here, we're generating numbers between 10 to 2000 and we have 100 different numbers\n",
    "# feel free to adjust the low and the high.\n",
    "\n",
    "N = np.random.randint(10, 2000, 100)\n",
    "N"
   ]
  },
  {
   "cell_type": "markdown",
   "id": "ac585f83-c73b-44bc-8836-953ae70488c6",
   "metadata": {},
   "source": [
    "## Generate samples for each number in N for at least 4 different distributions\n",
    "\n",
    "`numpy.random` has a function for each distribution: [docs](https://numpy.org/doc/stable/reference/random/legacy.html#distributions)\n",
    "\n",
    "As a baseline, we would need to generate samples following the [1] **normal** distribution (`np.random.normal`).\n",
    "\n",
    "Other distributions you may consider are:\n",
    "* Poisson (`np.random.poisson`)\n",
    "* Binomial (`np.random.binomial`)\n",
    "* Chi-square (`np.random.chisquare`)\n",
    "\n",
    "To generate the samples following the parameters of the distribution, we first need to figure out the relationship of the mean with the parameters to generate the functions. *A useful reference would be to search Wikipedia for the distribution.*"
   ]
  },
  {
   "cell_type": "code",
   "execution_count": 5,
   "id": "06808362-a402-4a5e-acb6-3cff35c012df",
   "metadata": {},
   "outputs": [],
   "source": [
    "# Let's keep our distribution labels in a list for iteration\n",
    "distributions = ['normal', 'poisson', 'binomial', 'chisquare']"
   ]
  },
  {
   "cell_type": "code",
   "execution_count": 6,
   "id": "80232250-b4b9-4005-98c4-a5d8de80f111",
   "metadata": {},
   "outputs": [],
   "source": [
    "# samples can be placed in a dictionary where each distribution is the key \n",
    "samples = {}"
   ]
  },
  {
   "cell_type": "code",
   "execution_count": 7,
   "id": "e11956cb-9326-4096-b18f-b75840790abd",
   "metadata": {},
   "outputs": [],
   "source": [
    "for d in distributions:\n",
    "    samples[d] = {}            # this is where we'll keep each sample with the sample size N as the key\n",
    "    samples[d]['means'] = {}   # this is where we'll keep the means of the distributions"
   ]
  },
  {
   "cell_type": "code",
   "execution_count": 8,
   "id": "f7709359-da12-4e68-a5b5-0fca4cca5505",
   "metadata": {},
   "outputs": [
    {
     "data": {
      "text/plain": [
       "{'normal': {'means': {}},\n",
       " 'poisson': {'means': {}},\n",
       " 'binomial': {'means': {}},\n",
       " 'chisquare': {'means': {}}}"
      ]
     },
     "execution_count": 8,
     "metadata": {},
     "output_type": "execute_result"
    }
   ],
   "source": [
    "samples"
   ]
  },
  {
   "cell_type": "markdown",
   "id": "0d7186b3-d4de-4822-9a7c-072590ee9744",
   "metadata": {},
   "source": [
    "### Define the relationship of the mean to the parameters for each distribution\n",
    "\n",
    "* `random.normal(loc=0.0, scale=1.0, size=None)`\n",
    "* `random.poisson(lam=1.0, size=None)`\n",
    "* `random.binomial(n, p, size=None)`\n",
    "* `random.RandomState.chisquare(df, size=None)`\n",
    "\n",
    "\n",
    "`loc` = ?\n",
    "`lam` = ?\n",
    "`n` = ?\n",
    "`p` = ?\n",
    "`df` = ?"
   ]
  },
  {
   "cell_type": "code",
   "execution_count": null,
   "id": "4b2aa915-c3dd-4e3e-9ffd-66ed878035f9",
   "metadata": {},
   "outputs": [],
   "source": [
    "# how is the population mean realted to the parameters of each distribution? \n",
    "# check the individual distributions to see how the mean is related, and assign a corresponding value with the variables to the math concepts. \n",
    "# Cannot proceed without knowledge of the distributions and their relationships to the mean. I don't know how this relationship works, and that's why there's a wall.\n",
    "\n",
    "loc = pop_mean\n",
    "lam =  pop_mean\n",
    "p =  0.5\n",
    "n =  pop_mean / p\n",
    "df =  pop_mean"
   ]
  },
  {
   "cell_type": "code",
   "execution_count": null,
   "id": "24a3c078-d6f0-4bcb-b270-d1b2d152a28d",
   "metadata": {},
   "outputs": [],
   "source": [
    "# loop through all the values in N (sample size array)\n",
    "for size in N:\n",
    "    samples['normal'][size] = np.random.normal(loc, 1, size=size)  # default scale=1.0\n",
    "    samples['poisson'][size] = np.random.poisson(lam, size=size)\n",
    "    samples['binomial'][size] = np.random.binomial(n, p, size=size)\n",
    "    samples['chisquare'][size] = np.random.chisquare(df, size=size)"
   ]
  },
  {
   "cell_type": "markdown",
   "id": "8b8b578d-e03b-439f-9a07-5a90b1091b1d",
   "metadata": {},
   "source": [
    "## Sort the sample sizes\n",
    "\n",
    "For an easier comparison later, let's sort the values of $N$ from smallest to biggest to properly view our results."
   ]
  },
  {
   "cell_type": "code",
   "execution_count": null,
   "id": "9506dbb6-9fde-4891-9f90-7c9c987bf2a5",
   "metadata": {},
   "outputs": [],
   "source": [
    "N = np.sort(N)\n",
    "N"
   ]
  },
  {
   "cell_type": "markdown",
   "id": "522cd18c-c1ae-43f0-a0f1-1a74d7f9371e",
   "metadata": {},
   "source": [
    "## Visualize the histogram of the 4 distributions for `N[1]`\n",
    "Let's visualize the histogram of the smaller sample size and see the data looks like."
   ]
  },
  {
   "cell_type": "code",
   "execution_count": null,
   "id": "30c9ae51-0990-4bb6-aa90-08102eee9410",
   "metadata": {},
   "outputs": [],
   "source": [
    "fig = plt.figure(figsize=(15,15))\n",
    "\n",
    "plots = len(distributions)\n",
    "size =  N[1]\n",
    "\n",
    "for i in range(plots):\n",
    "    ax = fig.add_subplot(2, 2, i+1)\n",
    "    \n",
    "    dist = distributions[i]\n",
    "    data = samples[dist][size]\n",
    "    \n",
    "    ax.hist(data, edgecolor='white', bins=15)\n",
    "    ax.set_title('{} with N = {}'.format(dist, size), fontsize=15)\n",
    "    ax.set_xlabel('values')\n",
    "    ax.set_ylabel('frequencies')\n",
    "\n",
    "plt.tight_layout()"
   ]
  },
  {
   "cell_type": "markdown",
   "id": "b4d8de07-acc9-4c49-88ce-5735657fc2ab",
   "metadata": {},
   "source": [
    "## Visualize the histogram of the 4 distributions for `max(N)`\n",
    "\n",
    "Now, let's visualize the distribution of the dataset with the largest sample size."
   ]
  },
  {
   "cell_type": "code",
   "execution_count": null,
   "id": "8fb741f8-6e88-4fd2-b1a7-0754d388cd63",
   "metadata": {},
   "outputs": [],
   "source": [
    "fig = plt.figure(figsize=(15,15))\n",
    "\n",
    "plots = len(distributions)\n",
    "size = # edit \n",
    "\n",
    "for i in range(plots):\n",
    "    ax = fig.add_subplot(2, 2, i+1)\n",
    "    \n",
    "    dist = distributions[i]\n",
    "    data = samples[dist][size]\n",
    "    \n",
    "    ax.hist(data, edgecolor='white', bins=15)\n",
    "    ax.set_title('{} with N = {}'.format(dist, size), fontsize=15)\n",
    "    ax.set_xlabel('values')\n",
    "    ax.set_ylabel('frequencies')\n",
    "\n",
    "plt.tight_layout()"
   ]
  },
  {
   "cell_type": "markdown",
   "id": "0a78fe34-db21-4750-8a88-193317602398",
   "metadata": {},
   "source": [
    "## Get the mean of each sample for all distributions\n",
    "\n",
    "The sample mean and the population mean might not be exactly the same. To check, let's get the means and visualize the distribution of the means."
   ]
  },
  {
   "cell_type": "code",
   "execution_count": null,
   "id": "3ec3b509-fbb8-43a8-a79e-918bac43aec1",
   "metadata": {},
   "outputs": [],
   "source": [
    "for d in distributions:\n",
    "    for size in N:\n",
    "        samples[d]['means'][size] = samples[d][size].mean()"
   ]
  },
  {
   "cell_type": "markdown",
   "id": "2ae0a599-e32d-49aa-a377-dfe864cc000d",
   "metadata": {},
   "source": [
    "## Visualize the means of each sample in a scatterplot\n",
    "\n",
    "To check whether or not our sample means are close to the population mean, we can visualize the individual sample means with respect to their sample size. \n",
    "\n",
    "The hypothesis is that the larger the sample size, the closer the sample mean is to the population mean."
   ]
  },
  {
   "cell_type": "code",
   "execution_count": null,
   "id": "68efe80a-400c-43b5-9845-be49c2532245",
   "metadata": {},
   "outputs": [],
   "source": [
    "fig = plt.figure(figsize=(15,15))\n",
    "\n",
    "plots = len(distributions)\n",
    "\n",
    "for i in range(plots):\n",
    "    ax = fig.add_subplot(2, 2, i+1)\n",
    "    \n",
    "    dist = distributions[i]\n",
    "    data = samples[dist]['means']\n",
    "    \n",
    "    ax.plot(data.keys(), data.values(), 'o', ms=12, alpha=0.7)\n",
    "    ax.axhline(mean, 0, 2000, color='k', lw=2, linestyle='--', alpha=0.8)\n",
    "    ax.set_title('{} distribution'.format(dist), fontsize=15)\n",
    "    ax.set_xlabel('sample size')\n",
    "    ax.set_ylabel('sample mean')\n",
    "    ax.set_xlim([0, 2000])\n",
    "\n",
    "plt.tight_layout()"
   ]
  },
  {
   "cell_type": "markdown",
   "id": "a2cfea72-91ef-44f9-9764-ce9215677f12",
   "metadata": {},
   "source": [
    "## Plot the histogram of the means of the samples\n",
    "\n",
    "Following the definition of the Central Limit Theorem:\n",
    "\n",
    "> Formally, the distribution of the sample means generated from the same population will:\n",
    "> - Be normally distributed\n",
    "> - Have a mean close to the mean of the parent distribution\n",
    "> - Have a standard deviation close to the parent population standard deviation divided by the square root of the sample size\n",
    "\n",
    "To verify this, we can also visualize the means of the samples in a histogram."
   ]
  },
  {
   "cell_type": "code",
   "execution_count": null,
   "id": "f59c5d19-20b5-4e8f-b1e7-30fa79710400",
   "metadata": {},
   "outputs": [],
   "source": [
    "fig = plt.figure(figsize=(15,15))\n",
    "\n",
    "plots = len(distributions)\n",
    "\n",
    "for i in range(plots):\n",
    "    ax = fig.add_subplot(2, 2, i+1)\n",
    "    \n",
    "    dist = distributions[i]\n",
    "    data = samples[dist]['means']\n",
    "    \n",
    "    ax.hist(data.values(), edgecolor='white', bins=15)\n",
    "    ax.axvline(mean, color='k', lw=2, linestyle='--', alpha=0.8)\n",
    "    ax.set_title('{} distribution'.format(dist), fontsize=15)\n",
    "    ax.set_xlabel('sample mean values')\n",
    "    ax.set_ylabel('frequencies')\n",
    "\n",
    "plt.tight_layout()"
   ]
  },
  {
   "cell_type": "markdown",
   "id": "5f471f20-c54d-4020-a77c-58588b28fa49",
   "metadata": {},
   "source": [
    "## Challenge # 1! \n",
    "\n",
    "Visualize the histogram of the sample means with a normal distribution curve. Revise the code from the previous cell to add in the curve.\n",
    "\n",
    "*Hint: you may need `scipy` for the probability distribution function of the normal distribution.*"
   ]
  },
  {
   "cell_type": "code",
   "execution_count": null,
   "id": "226a0e25-2d38-44bd-9fac-59dc884f7dfb",
   "metadata": {},
   "outputs": [],
   "source": [
    "import scipy"
   ]
  },
  {
   "cell_type": "markdown",
   "id": "441b77bf-f932-45f6-9652-2905651246ed",
   "metadata": {},
   "source": [
    "## Challenge # 2!\n",
    "\n",
    "Perform a Kolmogorov-Smirnov test for goodness of fit comparing the **100 samples from one of the distributions** to the normal distribution. Print out the p-value for each sample size and conclude if you can reject the null or not.\n",
    "\n",
    "Make sure to define the null hypothesis you're rejecting.\n",
    "\n",
    "Possible sample output:\n",
    "```\n",
    "Distribution: possion\n",
    "\n",
    "Sample size: 10 | p-value: 0.02 | Less than 0.05, reject null, sample does not come from normal distribution.\n",
    "Sample size: 400 | p-value: 0.06 | Greater than 0.05, cannot reject null. \n",
    "```\n",
    "\n",
    "Output can be formatted differently as long as it shows at least 100 print statements with the sample size, p-value and whether null can be rejected or not."
   ]
  },
  {
   "cell_type": "code",
   "execution_count": null,
   "id": "f1c6749e-166b-473d-9df8-57e35275d1c8",
   "metadata": {},
   "outputs": [],
   "source": []
  }
 ],
 "metadata": {
  "kernelspec": {
   "display_name": "Python 3.9.13 64-bit",
   "language": "python",
   "name": "python3"
  },
  "language_info": {
   "codemirror_mode": {
    "name": "ipython",
    "version": 3
   },
   "file_extension": ".py",
   "mimetype": "text/x-python",
   "name": "python",
   "nbconvert_exporter": "python",
   "pygments_lexer": "ipython3",
   "version": "3.9.13"
  },
  "vscode": {
   "interpreter": {
    "hash": "b0fa6594d8f4cbf19f97940f81e996739fb7646882a419484c72d19e05852a7e"
   }
  }
 },
 "nbformat": 4,
 "nbformat_minor": 5
}
