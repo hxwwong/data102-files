{
 "cells": [
  {
   "cell_type": "markdown",
   "metadata": {},
   "source": [
    "# Introduction \n",
    "\n",
    "The website scraped is the Official Gazette of the Philippines (https://www.officialgazette.gov.ph/section/executive-orders/), the country's repository of legal documents. In particular, the section on executive orders. This site was chosen because legal documents are typically not hosted on APIs, and the site itself contains this information in a structured manner across different portals. Access to timely and effective jurisprudence is key to several undertakings that aim to democratize access to legal information, as well as a bevy of research into the natural-language processes of legal domains using AI (Dyevre, 2021; Ibarra & Revilla, 2014; Peramo et al., 2021; Virtucio et al., 2018). "
   ]
  },
  {
   "cell_type": "markdown",
   "metadata": {},
   "source": [
    "The website was scraped at <insert time and date here>. The robots text can be seen here: <insert img>"
   ]
  },
  {
   "cell_type": "markdown",
   "metadata": {},
   "source": [
    "# Building and Running the Selenium Scraper \n"
   ]
  },
  {
   "cell_type": "markdown",
   "metadata": {},
   "source": [
    "##### Importing libraries "
   ]
  },
  {
   "cell_type": "code",
   "execution_count": 1,
   "metadata": {},
   "outputs": [],
   "source": [
    "# importing the necessary libraries \n",
    "\n",
    "from selenium import webdriver \n",
    "from selenium.webdriver.support.ui import WebDriverWait \n",
    "from selenium.webdriver.chrome.options import Options \n",
    "from selenium.webdriver.common.by import By \n",
    "from time import sleep \n",
    "from selenium.webdriver.chrome.service import Service\n",
    "from webdriver_manager.chrome import ChromeDriverManager \n",
    "import pandas as pd \n",
    "from bs4 import BeautifulSoup\n",
    "import requests "
   ]
  },
  {
   "cell_type": "markdown",
   "metadata": {},
   "source": [
    "##### Initializing Selenium "
   ]
  },
  {
   "cell_type": "code",
   "execution_count": 3,
   "metadata": {},
   "outputs": [],
   "source": [
    "# setting target-page\n",
    "base_url = \"https://www.officialgazette.gov.ph/section/executive-orders/\"\n",
    "\n",
    "# # window settings - UNCOMMENT after running the noteboko fully\n",
    "# options = webdriver.ChromeOptions()\n",
    "# options.binary_location = \"\"\n",
    "# options.add_argument(\"--headless\")\n",
    "# options.add_argument(\"--start-maximized\")\n",
    "# options.add_argument(\"--incognito\")\n",
    "\n",
    "# initializing driver options \n",
    "driver = webdriver.Chrome(service=Service(ChromeDriverManager().install()))\n",
    "driver.get(base_url)\n",
    "sleep(3) \n"
   ]
  },
  {
   "cell_type": "markdown",
   "metadata": {},
   "source": [
    "##### Scraping the relevant content "
   ]
  },
  {
   "cell_type": "code",
   "execution_count": 20,
   "metadata": {},
   "outputs": [
    {
     "name": "stdout",
     "output_type": "stream",
     "text": [
      "Executive Order No. 5, s. 2022\n",
      "Executive Order No. 5, s. 2022\n",
      "----\n",
      "Executive Order No. 4, s. 2022\n",
      "Executive Order No. 4, s. 2022\n",
      "----\n",
      "Executive Order No. 3, s. 2022\n",
      "Executive Order No. 3, s. 2022\n",
      "----\n",
      "Executive Order No. 2, s. 2022\n",
      "Executive Order No. 2, s. 2022\n",
      "----\n",
      "Executive Order No. 1, s. 2022\n",
      "Executive Order No. 1, s. 2022\n",
      "----\n",
      "Executive Order No. 176, s. 2022\n",
      "Executive Order No. 176, s. 2022\n",
      "----\n",
      "Executive Order No. 175, s. 2022\n",
      "Executive Order No. 175, s. 2022\n",
      "----\n",
      "Executive Order No. 174, s. 2022\n",
      "Executive Order No. 174, s. 2022\n",
      "----\n",
      "Executive Order No. 173, s. 2022\n",
      "Executive Order No. 173, s. 2022\n",
      "----\n",
      "Executive Order No. 172, s. 2022\n",
      "Executive Order No. 172, s. 2022\n",
      "----\n"
     ]
    }
   ],
   "source": [
    "# access to list of individual entry options \n",
    "\n",
    "main_body = driver.find_element(by=By.XPATH, value=\"/html/body/div[2]/section/main/div/div[1]\") # this is the main div that contains each individual EO as nested thing \n",
    "eo_articles = main_body.find_elements(by=By.TAG_NAME, value='article') # contains each EO card \n",
    "\n",
    "for eo in eo_articles: \n",
    "    entry_title = eo.find_element(by=By.CLASS_NAME, value='entry-title')\n",
    "    title = entry_title.text\n",
    "\n",
    "    # selecting \n",
    "    \n",
    "    # choose one of the two formats \n",
    "    url = eo.find_element(by=By.TAG_NAME, value='a').get_attribute('href')\n",
    "    url2 = eo.find_element(by=By.TAG_NAME, value='a').text \n",
    "\n",
    "\n",
    "    # testing the loop logic \n",
    "    print(title)\n",
    "    print(url2)\n",
    "    print('----') \n",
    "\n",
    "# finding the necessary sub-elements \n",
    "\n",
    "\n",
    "\n",
    "    "
   ]
  },
  {
   "cell_type": "code",
   "execution_count": null,
   "metadata": {},
   "outputs": [],
   "source": [
    "print(entry_title[1].text) "
   ]
  },
  {
   "cell_type": "code",
   "execution_count": 8,
   "metadata": {},
   "outputs": [
    {
     "name": "stdout",
     "output_type": "stream",
     "text": [
      "Executive Order No. 5, s. 2022\n",
      "Executive Order No. 4, s. 2022\n",
      "Executive Order No. 3, s. 2022\n",
      "Executive Order No. 2, s. 2022\n",
      "Executive Order No. 1, s. 2022\n",
      "Executive Order No. 176, s. 2022\n",
      "Executive Order No. 175, s. 2022\n",
      "Executive Order No. 174, s. 2022\n",
      "Executive Order No. 173, s. 2022\n",
      "Executive Order No. 172, s. 2022\n"
     ]
    }
   ],
   "source": [
    "entry_title = main_body.find_elements(by=By.CLASS_NAME, value='entry-title')\n",
    "\n",
    "\n",
    "for entry in entry_title: \n",
    "    print(entry.text) \n"
   ]
  },
  {
   "cell_type": "markdown",
   "metadata": {},
   "source": [
    "##### Clicking on the next page \n"
   ]
  },
  {
   "cell_type": "code",
   "execution_count": null,
   "metadata": {},
   "outputs": [],
   "source": [
    "# there are 10 documents per page, so we can set a for loop with range 1-10 to collect our 100 data points \n",
    "\n",
    "# find the lick to older entries and have the page click on it as it scrapes through the necessary content"
   ]
  },
  {
   "cell_type": "markdown",
   "metadata": {},
   "source": [
    "# References \n",
    "\n",
    "Dyevre, A. (2021). Text-mining for lawyers: How machine learning techniques can advance our understanding of legal discourse. Erasmus Law Review, 14, 7. https://heinonline.org/HOL/Page?handle=hein.journals/erasmus14&id=9&div=&collection=\n",
    "\n",
    "Ibarra, V. C., & Revilla, C. D. (2014). Consumers’ awareness on their eight basic rights: A comparative study of filipinos in the philippines and guam (SSRN Scholarly Paper No. 2655817). Social Science Research Network. https://papers.ssrn.com/abstract=2655817\n",
    "\n",
    "Peramo, E., Cheng, C., & Cordel, M. (2021). Juris2vec: Building word embeddings from philippine jurisprudence. 2021 International Conference on Artificial Intelligence in Information and Communication (ICAIIC), 121–125. https://doi.org/10.1109/ICAIIC51459.2021.9415251\n",
    "\n",
    "Virtucio, M. B. L., Aborot, J. A., Abonita, J. K. C., Aviñante, R. S., Copino, R. J. B., Neverida, M. P., Osiana, V. O., Peramo, E. C., Syjuco, J. G., & Tan, G. B. A. (2018). Predicting decisions of the philippine supreme court using natural language processing and machine learning. 2018 IEEE 42nd Annual Computer Software and Applications Conference (COMPSAC), 02, 130–135. https://doi.org/10.1109/COMPSAC.2018.10348"
   ]
  },
  {
   "cell_type": "markdown",
   "metadata": {},
   "source": []
  }
 ],
 "metadata": {
  "kernelspec": {
   "display_name": "Python 3.9.13 64-bit",
   "language": "python",
   "name": "python3"
  },
  "language_info": {
   "codemirror_mode": {
    "name": "ipython",
    "version": 3
   },
   "file_extension": ".py",
   "mimetype": "text/x-python",
   "name": "python",
   "nbconvert_exporter": "python",
   "pygments_lexer": "ipython3",
   "version": "3.9.13"
  },
  "orig_nbformat": 4,
  "vscode": {
   "interpreter": {
    "hash": "b0fa6594d8f4cbf19f97940f81e996739fb7646882a419484c72d19e05852a7e"
   }
  }
 },
 "nbformat": 4,
 "nbformat_minor": 2
}
